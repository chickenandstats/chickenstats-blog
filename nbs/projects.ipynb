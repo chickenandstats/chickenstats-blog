{
 "cells": [
  {
   "cell_type": "markdown",
   "id": "56ce3fa07d774f18",
   "metadata": {},
   "source": [
    "# Projects\n",
    "> Various chickenstats projects"
   ]
  }
 ],
 "metadata": {
  "kernelspec": {
   "display_name": "python3",
   "language": "python",
   "name": "python3"
  }
 },
 "nbformat": 4,
 "nbformat_minor": 5
}
