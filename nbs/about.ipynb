{
 "cells": [
  {
   "cell_type": "markdown",
   "id": "57d2b7ef84bb8e97",
   "metadata": {},
   "source": [
    "# About\n",
    "> About chicken"
   ]
  }
 ],
 "metadata": {
  "kernelspec": {
   "display_name": "python3",
   "language": "python",
   "name": "python3"
  }
 },
 "nbformat": 4,
 "nbformat_minor": 5
}
