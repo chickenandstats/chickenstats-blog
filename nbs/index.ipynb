{
 "cells": [
  {
   "cell_type": "markdown",
   "metadata": {},
   "source": [
    "# chickenstats-blog\n",
    "\n",
    "> Blog for chickenstats. Data analysis and visualizations in Python"
   ]
  },
  {
   "cell_type": "markdown",
   "metadata": {},
   "source": "![](images/site/hero_transparent.png)"
  },
  {
   "cell_type": "markdown",
   "metadata": {},
   "source": [
    "Welcome to the blog for chickenstats. Here you can find examples for the `chickenstats` library and the code\n",
    "used for the [chicken and stats](https://chickenandstats.com) newsletter"
   ]
  },
  {
   "cell_type": "markdown",
   "metadata": {},
   "source": [
    "# Projects\n",
    "\n",
    "Follow the links below to the different projects in the chickenstats portfolio"
   ]
  },
  {
   "cell_type": "markdown",
   "metadata": {},
   "source": [
    ":::{.grid}\n",
    ":::{.g-col-12 .g-col-md-6}\n",
    "### chickenstats\n",
    ":::\n",
    ":::{.g-col-12 .g-col-md-6}\n",
    "### chickenstats-xg\n",
    ":::\n",
    ":::{.g-col-12 .g-col-md-6}\n",
    "### chickenstats-api\n",
    ":::\n",
    ":::{.g-col-12 .g-col-md-6}\n",
    "### chicken and stats\n",
    ":::\n",
    ":::"
   ]
  },
  {
   "cell_type": "markdown",
   "metadata": {},
   "source": [
    "## Blog\n",
    "\n",
    "Read posts for the respective topics"
   ]
  },
  {
   "cell_type": "markdown",
   "metadata": {},
   "source": [
    ":::{.grid layout-valign=\"center\"}\n",
    ":::{.g-col-12 .g-col-md-4}\n",
    "### Nashville Predators\n",
    "![](images/logos/nashville_predators.png)\n",
    ":::\n",
    ":::{.g-col-12 .g-col-md-4}\n",
    "### Tennessee Titans\n",
    "![](images/logos/tennessee_titans.png)\n",
    ":::\n",
    ":::{.g-col-12 .g-col-md-4}\n",
    "### Tennessee Volunteers\n",
    "![](images/logos/tennessee_volunteers.png)\n",
    ":::\n",
    ":::"
   ]
  },
  {
   "cell_type": "markdown",
   "metadata": {},
   "source": "## About"
  },
  {
   "cell_type": "markdown",
   "metadata": {},
   "source": [
    ":::{.grid}\n",
    ":::{.g-col-12 .g-col-md-4}\n",
    "![](images/site/avatar_transparent.png){height=200px fig-align=\"center\"}\n",
    ":::\n",
    ":::{.g-col-12 .g-col-md-8}\n",
    "### About me\n",
    "\n",
    "I'm chicken.\n",
    ":::\n",
    ":::"
   ]
  }
 ],
 "metadata": {
  "kernelspec": {
   "display_name": "python3",
   "language": "python",
   "name": "python3"
  }
 },
 "nbformat": 4,
 "nbformat_minor": 4
}
