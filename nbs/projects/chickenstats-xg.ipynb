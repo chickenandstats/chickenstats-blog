{
 "cells": [
  {
   "cell_type": "markdown",
   "id": "3e5d62966efc9d85",
   "metadata": {},
   "source": "# chickenstats xG"
  }
 ],
 "metadata": {
  "kernelspec": {
   "display_name": "python3",
   "language": "python",
   "name": "python3"
  }
 },
 "nbformat": 4,
 "nbformat_minor": 5
}
