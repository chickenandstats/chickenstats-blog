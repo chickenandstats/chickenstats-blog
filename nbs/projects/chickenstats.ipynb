{
 "cells": [
  {
   "cell_type": "markdown",
   "id": "c96d309ac8354062",
   "metadata": {},
   "source": "# chickenstats"
  },
  {
   "cell_type": "markdown",
   "id": "57c1ccb8b2ea0966",
   "metadata": {},
   "source": ""
  }
 ],
 "metadata": {
  "kernelspec": {
   "display_name": "python3",
   "language": "python",
   "name": "python3"
  }
 },
 "nbformat": 4,
 "nbformat_minor": 5
}
