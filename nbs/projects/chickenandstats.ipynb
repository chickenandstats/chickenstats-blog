{
 "cells": [
  {
   "cell_type": "markdown",
   "id": "28f3bd52696fd2c9",
   "metadata": {},
   "source": "# chicken and stats"
  },
  {
   "cell_type": "markdown",
   "id": "9626a1bceaf355a8",
   "metadata": {},
   "source": ""
  }
 ],
 "metadata": {
  "kernelspec": {
   "display_name": "python3",
   "language": "python",
   "name": "python3"
  }
 },
 "nbformat": 4,
 "nbformat_minor": 5
}
