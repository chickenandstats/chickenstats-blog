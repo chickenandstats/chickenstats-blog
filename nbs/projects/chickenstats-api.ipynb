{
 "cells": [
  {
   "cell_type": "markdown",
   "id": "9f07e7fb3576b3b3",
   "metadata": {},
   "source": "# chickenstats api"
  }
 ],
 "metadata": {
  "kernelspec": {
   "display_name": "python3",
   "language": "python",
   "name": "python3"
  }
 },
 "nbformat": 4,
 "nbformat_minor": 5
}
